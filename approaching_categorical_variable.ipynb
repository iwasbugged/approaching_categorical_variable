{
 "metadata": {
  "language_info": {
   "codemirror_mode": {
    "name": "ipython",
    "version": 3
   },
   "file_extension": ".py",
   "mimetype": "text/x-python",
   "name": "python",
   "nbconvert_exporter": "python",
   "pygments_lexer": "ipython3",
   "version": "3.7.7-final"
  },
  "orig_nbformat": 2,
  "kernelspec": {
   "name": "Python 3.7.7 64-bit ('base': conda)",
   "display_name": "Python 3.7.7 64-bit ('base': conda)",
   "metadata": {
    "interpreter": {
     "hash": "3c8c3a880c14b61cd710572e2ac6298335c33509b1f7d3900bc107f98e9cc647"
    }
   }
  }
 },
 "nbformat": 4,
 "nbformat_minor": 2,
 "cells": [
  {
   "source": [
    "# Let's explore the dataset\n"
   ],
   "cell_type": "markdown",
   "metadata": {}
  },
  {
   "cell_type": "code",
   "execution_count": 1,
   "metadata": {},
   "outputs": [],
   "source": [
    "# importing libraries\n",
    "import pandas as pd \n",
    "import numpy as np \n",
    "import seaborn as sns \n",
    "import matplotlib.pyplot as plt \n",
    "import warnings \n",
    "from matplotlib import style\n",
    "warnings.filterwarnings('ignore')\n",
    "%matplotlib inline"
   ]
  },
  {
   "cell_type": "code",
   "execution_count": 2,
   "metadata": {},
   "outputs": [
    {
     "output_type": "execute_result",
     "data": {
      "text/plain": "   id  bin_0  bin_1  bin_2 bin_3 bin_4 nom_0      nom_1    nom_2       nom_3  \\\n0   0    0.0    0.0    0.0     F     N   Red  Trapezoid  Hamster      Russia   \n1   1    1.0    1.0    0.0     F     Y   Red       Star  Axolotl         NaN   \n2   2    0.0    1.0    0.0     F     N   Red        NaN  Hamster      Canada   \n3   3    NaN    0.0    0.0     F     N   Red     Circle  Hamster     Finland   \n4   4    0.0    NaN    0.0     T     N   Red   Triangle  Hamster  Costa Rica   \n\n   ...      nom_9 ord_0        ord_1     ord_2 ord_3 ord_4  ord_5  day month  \\\n0  ...  02e7c8990   3.0  Contributor       Hot     c     U     Pw  6.0   3.0   \n1  ...  f37df64af   3.0  Grandmaster      Warm     e     X     pE  7.0   7.0   \n2  ...        NaN   3.0          NaN  Freezing     n     P     eN  5.0   9.0   \n3  ...  f9d456e57   1.0       Novice  Lava Hot     a     C    NaN  3.0   3.0   \n4  ...  c5361037c   3.0  Grandmaster      Cold     h     C     OZ  5.0  12.0   \n\n  target  \n0      0  \n1      0  \n2      0  \n3      0  \n4      0  \n\n[5 rows x 25 columns]",
      "text/html": "<div>\n<style scoped>\n    .dataframe tbody tr th:only-of-type {\n        vertical-align: middle;\n    }\n\n    .dataframe tbody tr th {\n        vertical-align: top;\n    }\n\n    .dataframe thead th {\n        text-align: right;\n    }\n</style>\n<table border=\"1\" class=\"dataframe\">\n  <thead>\n    <tr style=\"text-align: right;\">\n      <th></th>\n      <th>id</th>\n      <th>bin_0</th>\n      <th>bin_1</th>\n      <th>bin_2</th>\n      <th>bin_3</th>\n      <th>bin_4</th>\n      <th>nom_0</th>\n      <th>nom_1</th>\n      <th>nom_2</th>\n      <th>nom_3</th>\n      <th>...</th>\n      <th>nom_9</th>\n      <th>ord_0</th>\n      <th>ord_1</th>\n      <th>ord_2</th>\n      <th>ord_3</th>\n      <th>ord_4</th>\n      <th>ord_5</th>\n      <th>day</th>\n      <th>month</th>\n      <th>target</th>\n    </tr>\n  </thead>\n  <tbody>\n    <tr>\n      <th>0</th>\n      <td>0</td>\n      <td>0.0</td>\n      <td>0.0</td>\n      <td>0.0</td>\n      <td>F</td>\n      <td>N</td>\n      <td>Red</td>\n      <td>Trapezoid</td>\n      <td>Hamster</td>\n      <td>Russia</td>\n      <td>...</td>\n      <td>02e7c8990</td>\n      <td>3.0</td>\n      <td>Contributor</td>\n      <td>Hot</td>\n      <td>c</td>\n      <td>U</td>\n      <td>Pw</td>\n      <td>6.0</td>\n      <td>3.0</td>\n      <td>0</td>\n    </tr>\n    <tr>\n      <th>1</th>\n      <td>1</td>\n      <td>1.0</td>\n      <td>1.0</td>\n      <td>0.0</td>\n      <td>F</td>\n      <td>Y</td>\n      <td>Red</td>\n      <td>Star</td>\n      <td>Axolotl</td>\n      <td>NaN</td>\n      <td>...</td>\n      <td>f37df64af</td>\n      <td>3.0</td>\n      <td>Grandmaster</td>\n      <td>Warm</td>\n      <td>e</td>\n      <td>X</td>\n      <td>pE</td>\n      <td>7.0</td>\n      <td>7.0</td>\n      <td>0</td>\n    </tr>\n    <tr>\n      <th>2</th>\n      <td>2</td>\n      <td>0.0</td>\n      <td>1.0</td>\n      <td>0.0</td>\n      <td>F</td>\n      <td>N</td>\n      <td>Red</td>\n      <td>NaN</td>\n      <td>Hamster</td>\n      <td>Canada</td>\n      <td>...</td>\n      <td>NaN</td>\n      <td>3.0</td>\n      <td>NaN</td>\n      <td>Freezing</td>\n      <td>n</td>\n      <td>P</td>\n      <td>eN</td>\n      <td>5.0</td>\n      <td>9.0</td>\n      <td>0</td>\n    </tr>\n    <tr>\n      <th>3</th>\n      <td>3</td>\n      <td>NaN</td>\n      <td>0.0</td>\n      <td>0.0</td>\n      <td>F</td>\n      <td>N</td>\n      <td>Red</td>\n      <td>Circle</td>\n      <td>Hamster</td>\n      <td>Finland</td>\n      <td>...</td>\n      <td>f9d456e57</td>\n      <td>1.0</td>\n      <td>Novice</td>\n      <td>Lava Hot</td>\n      <td>a</td>\n      <td>C</td>\n      <td>NaN</td>\n      <td>3.0</td>\n      <td>3.0</td>\n      <td>0</td>\n    </tr>\n    <tr>\n      <th>4</th>\n      <td>4</td>\n      <td>0.0</td>\n      <td>NaN</td>\n      <td>0.0</td>\n      <td>T</td>\n      <td>N</td>\n      <td>Red</td>\n      <td>Triangle</td>\n      <td>Hamster</td>\n      <td>Costa Rica</td>\n      <td>...</td>\n      <td>c5361037c</td>\n      <td>3.0</td>\n      <td>Grandmaster</td>\n      <td>Cold</td>\n      <td>h</td>\n      <td>C</td>\n      <td>OZ</td>\n      <td>5.0</td>\n      <td>12.0</td>\n      <td>0</td>\n    </tr>\n  </tbody>\n</table>\n<p>5 rows × 25 columns</p>\n</div>"
     },
     "metadata": {},
     "execution_count": 2
    }
   ],
   "source": [
    "df = pd.read_csv('dataset\\cat_train.csv')\n",
    "df.head()"
   ]
  },
  {
   "cell_type": "code",
   "execution_count": 4,
   "metadata": {},
   "outputs": [
    {
     "output_type": "execute_result",
     "data": {
      "text/plain": "(600000, 25)"
     },
     "metadata": {},
     "execution_count": 4
    }
   ],
   "source": [
    "df.shape"
   ]
  },
  {
   "cell_type": "code",
   "execution_count": 5,
   "metadata": {
    "tags": []
   },
   "outputs": [
    {
     "output_type": "stream",
     "name": "stdout",
     "text": "&lt;class &#39;pandas.core.frame.DataFrame&#39;&gt;\nRangeIndex: 600000 entries, 0 to 599999\nData columns (total 25 columns):\n #   Column  Non-Null Count   Dtype  \n---  ------  --------------   -----  \n 0   id      600000 non-null  int64  \n 1   bin_0   582106 non-null  float64\n 2   bin_1   581997 non-null  float64\n 3   bin_2   582070 non-null  float64\n 4   bin_3   581986 non-null  object \n 5   bin_4   581953 non-null  object \n 6   nom_0   581748 non-null  object \n 7   nom_1   581844 non-null  object \n 8   nom_2   581965 non-null  object \n 9   nom_3   581879 non-null  object \n 10  nom_4   581965 non-null  object \n 11  nom_5   582222 non-null  object \n 12  nom_6   581869 non-null  object \n 13  nom_7   581997 non-null  object \n 14  nom_8   582245 non-null  object \n 15  nom_9   581927 non-null  object \n 16  ord_0   581712 non-null  float64\n 17  ord_1   581959 non-null  object \n 18  ord_2   581925 non-null  object \n 19  ord_3   582084 non-null  object \n 20  ord_4   582070 non-null  object \n 21  ord_5   582287 non-null  object \n 22  day     582048 non-null  float64\n 23  month   582012 non-null  float64\n 24  target  600000 non-null  int64  \ndtypes: float64(6), int64(2), object(17)\nmemory usage: 114.4+ MB\n"
    }
   ],
   "source": [
    "df.info()"
   ]
  },
  {
   "cell_type": "code",
   "execution_count": 6,
   "metadata": {},
   "outputs": [
    {
     "output_type": "execute_result",
     "data": {
      "text/plain": "                   id          bin_0          bin_1          bin_2   bin_3  \\\ncount   600000.000000  582106.000000  581997.000000  582070.000000  581986   \nunique            NaN            NaN            NaN            NaN       2   \ntop               NaN            NaN            NaN            NaN       F   \nfreq              NaN            NaN            NaN            NaN  366212   \nmean    299999.500000       0.092301       0.185532       0.278704     NaN   \nstd     173205.225094       0.289451       0.388729       0.448362     NaN   \nmin          0.000000       0.000000       0.000000       0.000000     NaN   \n25%     149999.750000       0.000000       0.000000       0.000000     NaN   \n50%     299999.500000       0.000000       0.000000       0.000000     NaN   \n75%     449999.250000       0.000000       0.000000       1.000000     NaN   \nmax     599999.000000       1.000000       1.000000       1.000000     NaN   \n\n         bin_4   nom_0     nom_1    nom_2   nom_3  ...      nom_9  \\\ncount   581953  581748    581844   581965  581879  ...     581927   \nunique       2       3         6        6       6  ...       2218   \ntop          N     Red  Triangle  Hamster   India  ...  8f3276a6e   \nfreq    312344  323286    164190   164897  164869  ...        565   \nmean       NaN     NaN       NaN      NaN     NaN  ...        NaN   \nstd        NaN     NaN       NaN      NaN     NaN  ...        NaN   \nmin        NaN     NaN       NaN      NaN     NaN  ...        NaN   \n25%        NaN     NaN       NaN      NaN     NaN  ...        NaN   \n50%        NaN     NaN       NaN      NaN     NaN  ...        NaN   \n75%        NaN     NaN       NaN      NaN     NaN  ...        NaN   \nmax        NaN     NaN       NaN      NaN     NaN  ...        NaN   \n\n                ord_0   ord_1     ord_2   ord_3   ord_4   ord_5  \\\ncount   581712.000000  581959    581925  582084  582070  582287   \nunique            NaN       5         6      15      26     190   \ntop               NaN  Novice  Freezing       n       N      Fl   \nfreq              NaN  160597    142726   70982   39978   10562   \nmean         1.948224     NaN       NaN     NaN     NaN     NaN   \nstd          0.853904     NaN       NaN     NaN     NaN     NaN   \nmin          1.000000     NaN       NaN     NaN     NaN     NaN   \n25%          1.000000     NaN       NaN     NaN     NaN     NaN   \n50%          2.000000     NaN       NaN     NaN     NaN     NaN   \n75%          3.000000     NaN       NaN     NaN     NaN     NaN   \nmax          3.000000     NaN       NaN     NaN     NaN     NaN   \n\n                  day          month         target  \ncount   582048.000000  582012.000000  600000.000000  \nunique            NaN            NaN            NaN  \ntop               NaN            NaN            NaN  \nfreq              NaN            NaN            NaN  \nmean         4.112767       6.371317       0.187205  \nstd          2.034430       3.458959       0.390076  \nmin          1.000000       1.000000       0.000000  \n25%          2.000000       3.000000       0.000000  \n50%          5.000000       6.000000       0.000000  \n75%          6.000000       8.000000       0.000000  \nmax          7.000000      12.000000       1.000000  \n\n[11 rows x 25 columns]",
      "text/html": "<div>\n<style scoped>\n    .dataframe tbody tr th:only-of-type {\n        vertical-align: middle;\n    }\n\n    .dataframe tbody tr th {\n        vertical-align: top;\n    }\n\n    .dataframe thead th {\n        text-align: right;\n    }\n</style>\n<table border=\"1\" class=\"dataframe\">\n  <thead>\n    <tr style=\"text-align: right;\">\n      <th></th>\n      <th>id</th>\n      <th>bin_0</th>\n      <th>bin_1</th>\n      <th>bin_2</th>\n      <th>bin_3</th>\n      <th>bin_4</th>\n      <th>nom_0</th>\n      <th>nom_1</th>\n      <th>nom_2</th>\n      <th>nom_3</th>\n      <th>...</th>\n      <th>nom_9</th>\n      <th>ord_0</th>\n      <th>ord_1</th>\n      <th>ord_2</th>\n      <th>ord_3</th>\n      <th>ord_4</th>\n      <th>ord_5</th>\n      <th>day</th>\n      <th>month</th>\n      <th>target</th>\n    </tr>\n  </thead>\n  <tbody>\n    <tr>\n      <th>count</th>\n      <td>600000.000000</td>\n      <td>582106.000000</td>\n      <td>581997.000000</td>\n      <td>582070.000000</td>\n      <td>581986</td>\n      <td>581953</td>\n      <td>581748</td>\n      <td>581844</td>\n      <td>581965</td>\n      <td>581879</td>\n      <td>...</td>\n      <td>581927</td>\n      <td>581712.000000</td>\n      <td>581959</td>\n      <td>581925</td>\n      <td>582084</td>\n      <td>582070</td>\n      <td>582287</td>\n      <td>582048.000000</td>\n      <td>582012.000000</td>\n      <td>600000.000000</td>\n    </tr>\n    <tr>\n      <th>unique</th>\n      <td>NaN</td>\n      <td>NaN</td>\n      <td>NaN</td>\n      <td>NaN</td>\n      <td>2</td>\n      <td>2</td>\n      <td>3</td>\n      <td>6</td>\n      <td>6</td>\n      <td>6</td>\n      <td>...</td>\n      <td>2218</td>\n      <td>NaN</td>\n      <td>5</td>\n      <td>6</td>\n      <td>15</td>\n      <td>26</td>\n      <td>190</td>\n      <td>NaN</td>\n      <td>NaN</td>\n      <td>NaN</td>\n    </tr>\n    <tr>\n      <th>top</th>\n      <td>NaN</td>\n      <td>NaN</td>\n      <td>NaN</td>\n      <td>NaN</td>\n      <td>F</td>\n      <td>N</td>\n      <td>Red</td>\n      <td>Triangle</td>\n      <td>Hamster</td>\n      <td>India</td>\n      <td>...</td>\n      <td>8f3276a6e</td>\n      <td>NaN</td>\n      <td>Novice</td>\n      <td>Freezing</td>\n      <td>n</td>\n      <td>N</td>\n      <td>Fl</td>\n      <td>NaN</td>\n      <td>NaN</td>\n      <td>NaN</td>\n    </tr>\n    <tr>\n      <th>freq</th>\n      <td>NaN</td>\n      <td>NaN</td>\n      <td>NaN</td>\n      <td>NaN</td>\n      <td>366212</td>\n      <td>312344</td>\n      <td>323286</td>\n      <td>164190</td>\n      <td>164897</td>\n      <td>164869</td>\n      <td>...</td>\n      <td>565</td>\n      <td>NaN</td>\n      <td>160597</td>\n      <td>142726</td>\n      <td>70982</td>\n      <td>39978</td>\n      <td>10562</td>\n      <td>NaN</td>\n      <td>NaN</td>\n      <td>NaN</td>\n    </tr>\n    <tr>\n      <th>mean</th>\n      <td>299999.500000</td>\n      <td>0.092301</td>\n      <td>0.185532</td>\n      <td>0.278704</td>\n      <td>NaN</td>\n      <td>NaN</td>\n      <td>NaN</td>\n      <td>NaN</td>\n      <td>NaN</td>\n      <td>NaN</td>\n      <td>...</td>\n      <td>NaN</td>\n      <td>1.948224</td>\n      <td>NaN</td>\n      <td>NaN</td>\n      <td>NaN</td>\n      <td>NaN</td>\n      <td>NaN</td>\n      <td>4.112767</td>\n      <td>6.371317</td>\n      <td>0.187205</td>\n    </tr>\n    <tr>\n      <th>std</th>\n      <td>173205.225094</td>\n      <td>0.289451</td>\n      <td>0.388729</td>\n      <td>0.448362</td>\n      <td>NaN</td>\n      <td>NaN</td>\n      <td>NaN</td>\n      <td>NaN</td>\n      <td>NaN</td>\n      <td>NaN</td>\n      <td>...</td>\n      <td>NaN</td>\n      <td>0.853904</td>\n      <td>NaN</td>\n      <td>NaN</td>\n      <td>NaN</td>\n      <td>NaN</td>\n      <td>NaN</td>\n      <td>2.034430</td>\n      <td>3.458959</td>\n      <td>0.390076</td>\n    </tr>\n    <tr>\n      <th>min</th>\n      <td>0.000000</td>\n      <td>0.000000</td>\n      <td>0.000000</td>\n      <td>0.000000</td>\n      <td>NaN</td>\n      <td>NaN</td>\n      <td>NaN</td>\n      <td>NaN</td>\n      <td>NaN</td>\n      <td>NaN</td>\n      <td>...</td>\n      <td>NaN</td>\n      <td>1.000000</td>\n      <td>NaN</td>\n      <td>NaN</td>\n      <td>NaN</td>\n      <td>NaN</td>\n      <td>NaN</td>\n      <td>1.000000</td>\n      <td>1.000000</td>\n      <td>0.000000</td>\n    </tr>\n    <tr>\n      <th>25%</th>\n      <td>149999.750000</td>\n      <td>0.000000</td>\n      <td>0.000000</td>\n      <td>0.000000</td>\n      <td>NaN</td>\n      <td>NaN</td>\n      <td>NaN</td>\n      <td>NaN</td>\n      <td>NaN</td>\n      <td>NaN</td>\n      <td>...</td>\n      <td>NaN</td>\n      <td>1.000000</td>\n      <td>NaN</td>\n      <td>NaN</td>\n      <td>NaN</td>\n      <td>NaN</td>\n      <td>NaN</td>\n      <td>2.000000</td>\n      <td>3.000000</td>\n      <td>0.000000</td>\n    </tr>\n    <tr>\n      <th>50%</th>\n      <td>299999.500000</td>\n      <td>0.000000</td>\n      <td>0.000000</td>\n      <td>0.000000</td>\n      <td>NaN</td>\n      <td>NaN</td>\n      <td>NaN</td>\n      <td>NaN</td>\n      <td>NaN</td>\n      <td>NaN</td>\n      <td>...</td>\n      <td>NaN</td>\n      <td>2.000000</td>\n      <td>NaN</td>\n      <td>NaN</td>\n      <td>NaN</td>\n      <td>NaN</td>\n      <td>NaN</td>\n      <td>5.000000</td>\n      <td>6.000000</td>\n      <td>0.000000</td>\n    </tr>\n    <tr>\n      <th>75%</th>\n      <td>449999.250000</td>\n      <td>0.000000</td>\n      <td>0.000000</td>\n      <td>1.000000</td>\n      <td>NaN</td>\n      <td>NaN</td>\n      <td>NaN</td>\n      <td>NaN</td>\n      <td>NaN</td>\n      <td>NaN</td>\n      <td>...</td>\n      <td>NaN</td>\n      <td>3.000000</td>\n      <td>NaN</td>\n      <td>NaN</td>\n      <td>NaN</td>\n      <td>NaN</td>\n      <td>NaN</td>\n      <td>6.000000</td>\n      <td>8.000000</td>\n      <td>0.000000</td>\n    </tr>\n    <tr>\n      <th>max</th>\n      <td>599999.000000</td>\n      <td>1.000000</td>\n      <td>1.000000</td>\n      <td>1.000000</td>\n      <td>NaN</td>\n      <td>NaN</td>\n      <td>NaN</td>\n      <td>NaN</td>\n      <td>NaN</td>\n      <td>NaN</td>\n      <td>...</td>\n      <td>NaN</td>\n      <td>3.000000</td>\n      <td>NaN</td>\n      <td>NaN</td>\n      <td>NaN</td>\n      <td>NaN</td>\n      <td>NaN</td>\n      <td>7.000000</td>\n      <td>12.000000</td>\n      <td>1.000000</td>\n    </tr>\n  </tbody>\n</table>\n<p>11 rows × 25 columns</p>\n</div>"
     },
     "metadata": {},
     "execution_count": 6
    }
   ],
   "source": [
    "df.describe(include = 'all')"
   ]
  },
  {
   "cell_type": "code",
   "execution_count": 7,
   "metadata": {},
   "outputs": [
    {
     "output_type": "execute_result",
     "data": {
      "text/plain": "id            0\nbin_0     17894\nbin_1     18003\nbin_2     17930\nbin_3     18014\nbin_4     18047\nnom_0     18252\nnom_1     18156\nnom_2     18035\nnom_3     18121\nnom_4     18035\nnom_5     17778\nnom_6     18131\nnom_7     18003\nnom_8     17755\nnom_9     18073\nord_0     18288\nord_1     18041\nord_2     18075\nord_3     17916\nord_4     17930\nord_5     17713\nday       17952\nmonth     17988\ntarget        0\ndtype: int64"
     },
     "metadata": {},
     "execution_count": 7
    }
   ],
   "source": [
    "df.isnull().sum()"
   ]
  },
  {
   "source": [
    "The dataset consists of all the kinds of categorical variables\n",
    "- Nominal\n",
    "- Ordinal\n",
    "- Cyclic\n",
    "- Binary"
   ],
   "cell_type": "markdown",
   "metadata": {}
  },
  {
   "cell_type": "code",
   "execution_count": 8,
   "metadata": {},
   "outputs": [
    {
     "output_type": "execute_result",
     "data": {
      "text/plain": "0    487677\n1    112323\nName: target, dtype: int64"
     },
     "metadata": {},
     "execution_count": 8
    }
   ],
   "source": [
    "df.target.value_counts()"
   ]
  },
  {
   "source": [
    "It's a binary classification problem. \n",
    "\n",
    "The target is skewed, thus the best metric for this binary classification problem would be Area Under the ROC Curve (AUC) .  we can use precision and recall too ,  but AUC combines these two metrics. Thus we will be using AUC to evaluate the model that we build on this dataset"
   ],
   "cell_type": "markdown",
   "metadata": {}
  },
  {
   "source": [
    "Overall,  there are:\n",
    "- Five binary variables\n",
    "- Ten nominal variables\n",
    "- Six ordinal variables\n",
    "- Two cyclic variables\n",
    "- And a target variable \n",
    "\n",
    "let's look at \"ord_2\" feature in the dataset. it consist of six different categories:\n",
    "- Freezing\n",
    "- Warm \n",
    "- cold\n",
    "- Boiling Hot\n",
    "- Hot\n",
    "- Lava Hot\n",
    "\n",
    "To convert these categories to numbers . A simple way of doing this would be to create a dictionary that maps these values to numbers starting from  to N-1 , where N is the total number of categories in agiven feature"
   ],
   "cell_type": "markdown",
   "metadata": {}
  },
  {
   "cell_type": "code",
   "execution_count": 9,
   "metadata": {},
   "outputs": [
    {
     "output_type": "execute_result",
     "data": {
      "text/plain": "array([&#39;Hot&#39;, &#39;Warm&#39;, &#39;Freezing&#39;, &#39;Lava Hot&#39;, &#39;Cold&#39;, &#39;Boiling Hot&#39;, nan],\n      dtype=object)"
     },
     "metadata": {},
     "execution_count": 9
    }
   ],
   "source": [
    "df.ord_2.unique()"
   ]
  },
  {
   "cell_type": "code",
   "execution_count": 10,
   "metadata": {},
   "outputs": [],
   "source": [
    "mapping ={\n",
    "    'Freezing' : 0,\n",
    "    'Cold' : 1,\n",
    "    'Warm' : 2,\n",
    "    'Hot' : 3,\n",
    "    'Boiling Hot': 4 ,\n",
    "    'Lava Hot' : 5  \n",
    "}"
   ]
  },
  {
   "cell_type": "code",
   "execution_count": 11,
   "metadata": {},
   "outputs": [
    {
     "output_type": "execute_result",
     "data": {
      "text/plain": "Freezing       142726\nWarm           124239\nCold            97822\nBoiling Hot     84790\nHot             67508\nLava Hot        64840\nName: ord_2, dtype: int64"
     },
     "metadata": {},
     "execution_count": 11
    }
   ],
   "source": [
    "df.ord_2.value_counts()"
   ]
  },
  {
   "cell_type": "code",
   "execution_count": 12,
   "metadata": {},
   "outputs": [],
   "source": [
    "df.loc[ : , 'ord_2'] = df.ord_2.map(mapping)"
   ]
  },
  {
   "cell_type": "code",
   "execution_count": 13,
   "metadata": {},
   "outputs": [
    {
     "output_type": "execute_result",
     "data": {
      "text/plain": "0.0    142726\n2.0    124239\n1.0     97822\n4.0     84790\n3.0     67508\n5.0     64840\nName: ord_2, dtype: int64"
     },
     "metadata": {},
     "execution_count": 13
    }
   ],
   "source": [
    "df.ord_2.value_counts()"
   ]
  },
  {
   "source": [
    "This type of encoding of categorical variables is know as **Label Encoding**, i.e., we are encoding every category as a numerical label.\n",
    "We can do the same by using LabelEncoder from scikit-learn."
   ],
   "cell_type": "markdown",
   "metadata": {}
  },
  {
   "cell_type": "code",
   "execution_count": 15,
   "metadata": {},
   "outputs": [],
   "source": [
    "from sklearn import preprocessing \n",
    "\n",
    "# read the data\n",
    "df = pd.read_csv('dataset\\cat_train.csv')\n",
    "\n",
    "# fill NaN values in ord_2 column\n",
    "df.loc[ :, 'ord_2'] = df.ord_2.fillna('NONE')\n",
    "\n",
    "# initialize LabelEncoder\n",
    "lbl_enc = preprocessing.LabelEncoder()\n",
    "\n",
    "# fit label encoder and transform values on ord_2 column\n",
    "# P>S: do not use this directly fit first , then transform\n",
    "df.loc[ :, 'ord_2'] = lbl_enc.fit_transform(df.ord_2.values)"
   ]
  },
  {
   "source": [
    "Since LabelEncoder from scikit-learn does not handle NaN values , and column ord_2 has NaN values in it we are using fillna from pandas\n",
    "we can use this directly in many tree-based models:\n",
    "- Decision trees\n",
    "-  Random forest\n",
    "- Extra trees\n",
    "or any other kind of boosted trees model"
   ],
   "cell_type": "markdown",
   "metadata": {}
  },
  {
   "source": [
    "This type of encoding cannot be used in linear models ,  support vector machines or neural networks as they expect data to be normalized or standardized.\n",
    "For these types  of models , we can binarize the data.\n",
    "\n",
    "- Freezing    --> 0 --> 0 0 0\n",
    "- Warm        --> 1 --> 0 0 1\n",
    "- Cold        --> 2 --> 0 1 0\n",
    "- Boiling Hot --> 3 --> 0 1 1\n",
    "- Hot         --> 4 --> 1 0 0\n",
    "- Lava Hot    --> 5 --> 1 0 1\n",
    "\n",
    "This is just converting the categories to number and then converting them to their binary representation. we are spliting one feature into three feature (in this case) feature (or columns) .  If we have more categories , we might end up spliting into a lot more columns.\n",
    "\n",
    "It becomes easy to store lots of **binarized variables** like this is we store them in a sparse format.  A sparse format is nothing but a representaton or way of storing data in memory in which you do not store all the values but only the values that matter. In the case of binary variables described above , all that matters is where we have ones (1s)\n",
    "\n",
    "it's difficult to imagine a format like this but should become clear with an example."
   ],
   "cell_type": "markdown",
   "metadata": {}
  },
  {
   "cell_type": "code",
   "execution_count": 16,
   "metadata": {
    "tags": []
   },
   "outputs": [
    {
     "output_type": "stream",
     "name": "stdout",
     "text": "36\n"
    }
   ],
   "source": [
    "import numpy as np \n",
    "# create our example feature matrix\n",
    "example = np.array([\n",
    "\n",
    "     [0 , 0 , 1],\n",
    "     [1, 0, 0],\n",
    "     [1, 0, 1]\n",
    "])\n",
    "# print size in bytes\n",
    "print(example.nbytes)"
   ]
  },
  {
   "source": [
    "To represents this matrix only with ones would be some kind of dictionary method in whicch keys are indices of ros and columns and values is 1:\n",
    "\n",
    "- (0, 2)  1\n",
    "- (1, 0)  1\n",
    "- (2, 0)  1\n",
    "- (2, 2)  1"
   ],
   "cell_type": "markdown",
   "metadata": {}
  },
  {
   "source": [
    "A notation like this will occupy much less memory because it has t store only four values (in this case).  The total memory used will be 8x4 = 32 bytes. Any numpy array can be converted to sparse matrix by simple python code."
   ],
   "cell_type": "markdown",
   "metadata": {}
  },
  {
   "cell_type": "code",
   "execution_count": 17,
   "metadata": {
    "tags": []
   },
   "outputs": [
    {
     "output_type": "stream",
     "name": "stdout",
     "text": "16\n"
    }
   ],
   "source": [
    "import numpy as np \n",
    "from scipy import sparse\n",
    "\n",
    "# create our example feature matrix\n",
    "example = np.array([\n",
    "    [0, 0, 1],\n",
    "    [1, 0, 0],\n",
    "    [1, 0, 1]\n",
    "])\n",
    "#convert numpy array to sparse CSR matrix\n",
    "sparse_example = sparse.csr_matrix(example)\n",
    "\n",
    "# print sie of this sparse matrix\n",
    "print(sparse_example.data.nbytes)"
   ]
  },
  {
   "cell_type": "code",
   "execution_count": 18,
   "metadata": {
    "tags": []
   },
   "outputs": [
    {
     "output_type": "stream",
     "name": "stdout",
     "text": "48\n"
    }
   ],
   "source": [
    "print(\n",
    "    sparse_example.data.nbytes +\n",
    "    sparse_example.indptr.nbytes +\n",
    "    sparse_example.indices.nbytes\n",
    ")"
   ]
  },
  {
   "source": [
    "Even though the sparse representation of binarized features takes much lless memory than its dense representation, there is another transformation for categorical variables that takes even less memory. This is know as ** One Hot Encoding** . \n",
    "One hot encoding is a binary encoding too in the sense that there are only two values , 0s and 1s . However , it must be noted that it's not a binary representation.\n",
    "\n",
    "Whenever you get categorical variables, follow these simple steps:\n",
    "- fill the NaN values (this is very important)\n",
    "- convert them to integers by applying label encoding using LabelEncoder f scikit-learn or by using a mapping dictionary. IF YOU DIDN'T FILL UP NaN values with something, you might have to take care of them in this steps\n",
    "- create one-hot encoding . you can skip binarization!\n",
    "- go for modeling !\n"
   ],
   "cell_type": "markdown",
   "metadata": {}
  },
  {
   "source": [
    "Handling NaN data in categorical feature is quite essential else you can get the infamous error from scikit-learn's LabelEncoder:\n",
    "\n",
    "This simply means that when you are transforming tha test data, you have NaN , values in it . it;s because you forget to handle them during training. One simple way to handle NaN values would be to drop them. well, it;s simple but not ideal. there might be situation where most of your data has NaN values, and thus , you cannot drop rows/columns . Another way to handling NaN values is to treat them as a completely new category. This is the most preferred way of handling NaN values. And can be achieved in a very simple manner if you are using pandas."
   ],
   "cell_type": "markdown",
   "metadata": {}
  },
  {
   "cell_type": "code",
   "execution_count": 19,
   "metadata": {},
   "outputs": [
    {
     "output_type": "execute_result",
     "data": {
      "text/plain": "2    142726\n6    124239\n1     97822\n0     84790\n3     67508\n4     64840\n5     18075\nName: ord_2, dtype: int64"
     },
     "metadata": {},
     "execution_count": 19
    }
   ],
   "source": [
    "df.ord_2.value_counts()"
   ]
  },
  {
   "cell_type": "code",
   "execution_count": 20,
   "metadata": {},
   "outputs": [
    {
     "output_type": "execute_result",
     "data": {
      "text/plain": "2    142726\n6    124239\n1     97822\n0     84790\n3     67508\n4     64840\n5     18075\nName: ord_2, dtype: int64"
     },
     "metadata": {},
     "execution_count": 20
    }
   ],
   "source": [
    "df.ord_2.fillna('NONE').value_counts()"
   ]
  },
  {
   "source": [
    "Let's assume that ord_2 did not have any NaN values . we see that all categories in this column have a significant count . There are not \"rare\" categories ; i.e, categories which appear only a small percentage of the total number of samples. Now let's assume that you deployed this model which uses this column in production and when the model and project is live , you get a categories in ord_2 column that is not present in train . your model pipeline , in this case will throw  error and there is nothing you can do aboout it, then you must modify your model pipeline in production and include a new category to these six categories. This categories is known as the \"rare\" category . A rare category is a category which is not seen very often and can include many different categories. You can also try to \"predict\" the unknow category by using a nearest neighbour model\n",
    "\n",
    "Let's see the value counts in \"ord_4\" column after filling NaN values:\n"
   ],
   "cell_type": "markdown",
   "metadata": {}
  },
  {
   "cell_type": "code",
   "execution_count": 21,
   "metadata": {},
   "outputs": [
    {
     "output_type": "execute_result",
     "data": {
      "text/plain": "N       39978\nP       37890\nY       36657\nA       36633\nR       33045\nU       32897\nM       32504\nX       32347\nC       32112\nH       31189\nQ       30145\nT       29723\nO       25610\nB       25212\nE       21871\nK       21676\nI       19805\nNONE    17930\nD       17284\nF       16721\nW        8268\nZ        5790\nS        4595\nG        3404\nV        3107\nJ        1950\nL        1657\nName: ord_4, dtype: int64"
     },
     "metadata": {},
     "execution_count": 21
    }
   ],
   "source": [
    "df.ord_4.fillna('NONE').value_counts()"
   ]
  },
  {
   "source": [
    "we see that some values appear only a couple of thousand times , and some appear almost 40000 times . NaNs are also see a lot .\n",
    "\n",
    "we can now define our criteria for calling a value \"rare\" . let's say the requirement for a vlaue being rare in this column is a count of less than 2000.  So , it seems , J and L can be marked as rare values. with pandas , it is quite easy to replace categories based on count thresold."
   ],
   "cell_type": "markdown",
   "metadata": {}
  },
  {
   "cell_type": "code",
   "execution_count": 23,
   "metadata": {},
   "outputs": [],
   "source": [
    "df.ord_4 = df.ord_4.fillna('NONE')\n",
    "df.loc[\n",
    "    df['ord_4'].value_counts()[df['ord_4']].values < 2000, 'ord_4'\n",
    "] = 'RARE'"
   ]
  },
  {
   "cell_type": "code",
   "execution_count": 24,
   "metadata": {},
   "outputs": [
    {
     "output_type": "execute_result",
     "data": {
      "text/plain": "N       39978\nP       37890\nY       36657\nA       36633\nR       33045\nU       32897\nM       32504\nX       32347\nC       32112\nH       31189\nQ       30145\nT       29723\nO       25610\nB       25212\nE       21871\nK       21676\nI       19805\nNONE    17930\nD       17284\nF       16721\nW        8268\nZ        5790\nS        4595\nRARE     3607\nG        3404\nV        3107\nName: ord_4, dtype: int64"
     },
     "metadata": {},
     "execution_count": 24
    }
   ],
   "source": [
    "df.ord_4.value_counts()"
   ]
  },
  {
   "cell_type": "code",
   "execution_count": 25,
   "metadata": {},
   "outputs": [
    {
     "output_type": "execute_result",
     "data": {
      "text/plain": "8268"
     },
     "metadata": {},
     "execution_count": 25
    }
   ],
   "source": [
    "df.ord_4.value_counts()['W']"
   ]
  },
  {
   "source": [
    "We say that whatever the value count for a certain category is less than 2000, replace it with rare. So now when it comes to test data , all the new unseen categories will be mapped to \"RARE\" and all missing values will be Mapped to \"NONE\".\n",
    "This approach will also ensure that the model works in a live setting , even if you have a new categories ."
   ],
   "cell_type": "markdown",
   "metadata": {}
  },
  {
   "cell_type": "code",
   "execution_count": null,
   "metadata": {},
   "outputs": [],
   "source": []
  },
  {
   "cell_type": "code",
   "execution_count": 3,
   "metadata": {},
   "outputs": [],
   "source": [
    "df = pd.read_csv('dataset\\cat_train_folds.csv')"
   ]
  },
  {
   "cell_type": "code",
   "execution_count": 30,
   "metadata": {},
   "outputs": [
    {
     "output_type": "execute_result",
     "data": {
      "text/plain": "4    120000\n3    120000\n2    120000\n1    120000\n0    120000\nName: kfold, dtype: int64"
     },
     "metadata": {},
     "execution_count": 30
    }
   ],
   "source": [
    "df.kfold.value_counts()"
   ]
  },
  {
   "cell_type": "code",
   "execution_count": 4,
   "metadata": {},
   "outputs": [
    {
     "output_type": "execute_result",
     "data": {
      "text/plain": "0    97536\n1    22464\nName: target, dtype: int64"
     },
     "metadata": {},
     "execution_count": 4
    }
   ],
   "source": [
    "# we can check the target distribution per fold\n",
    "df[df.kfold == 0].target.value_counts()"
   ]
  },
  {
   "cell_type": "code",
   "execution_count": 5,
   "metadata": {},
   "outputs": [
    {
     "output_type": "execute_result",
     "data": {
      "text/plain": "0    97536\n1    22464\nName: target, dtype: int64"
     },
     "metadata": {},
     "execution_count": 5
    }
   ],
   "source": [
    "df[df.kfold == 1].target.value_counts()"
   ]
  },
  {
   "source": [
    "we see that the target distribution is the same. this what we needed..\n",
    "One of the simplest models we can build is by one hot encoding all the data and using logistic regression"
   ],
   "cell_type": "markdown",
   "metadata": {}
  },
  {
   "source": [
    "when you run the pyhton code in powershell it will give you warnings to ignore these warnings use **-W ignore** i.e\n",
    "**python -W ignore ohe_logres.py**\n",
    "\n",
    "Now apply random forest in dataset , before applying random forest to the dataset we will use label encoder insted of one-hot encoder"
   ],
   "cell_type": "markdown",
   "metadata": {}
  },
  {
   "source": [
    "Now let's change the dataset to another dataset with a lot of categorical variables. dataset is US adult census data. The dataset contains some feature , and our job is to predict the salary bracket. Let's take a look at this dataset ."
   ],
   "cell_type": "markdown",
   "metadata": {}
  },
  {
   "cell_type": "code",
   "execution_count": 12,
   "metadata": {},
   "outputs": [
    {
     "output_type": "execute_result",
     "data": {
      "text/plain": "   39          State-gov   77516   Bachelors   13        Never-married  \\\n0  50   Self-emp-not-inc   83311   Bachelors   13   Married-civ-spouse   \n1  38            Private  215646     HS-grad    9             Divorced   \n2  53            Private  234721        11th    7   Married-civ-spouse   \n3  28            Private  338409   Bachelors   13   Married-civ-spouse   \n4  37            Private  284582     Masters   14   Married-civ-spouse   \n\n         Adm-clerical   Not-in-family   White     Male   2174   0   40  \\\n0     Exec-managerial         Husband   White     Male      0   0   13   \n1   Handlers-cleaners   Not-in-family   White     Male      0   0   40   \n2   Handlers-cleaners         Husband   Black     Male      0   0   40   \n3      Prof-specialty            Wife   Black   Female      0   0   40   \n4     Exec-managerial            Wife   White   Female      0   0   40   \n\n    United-States   &lt;=50K  \n0   United-States   &lt;=50K  \n1   United-States   &lt;=50K  \n2   United-States   &lt;=50K  \n3            Cuba   &lt;=50K  \n4   United-States   &lt;=50K  ",
      "text/html": "<div>\n<style scoped>\n    .dataframe tbody tr th:only-of-type {\n        vertical-align: middle;\n    }\n\n    .dataframe tbody tr th {\n        vertical-align: top;\n    }\n\n    .dataframe thead th {\n        text-align: right;\n    }\n</style>\n<table border=\"1\" class=\"dataframe\">\n  <thead>\n    <tr style=\"text-align: right;\">\n      <th></th>\n      <th>39</th>\n      <th>State-gov</th>\n      <th>77516</th>\n      <th>Bachelors</th>\n      <th>13</th>\n      <th>Never-married</th>\n      <th>Adm-clerical</th>\n      <th>Not-in-family</th>\n      <th>White</th>\n      <th>Male</th>\n      <th>2174</th>\n      <th>0</th>\n      <th>40</th>\n      <th>United-States</th>\n      <th>&lt;=50K</th>\n    </tr>\n  </thead>\n  <tbody>\n    <tr>\n      <th>0</th>\n      <td>50</td>\n      <td>Self-emp-not-inc</td>\n      <td>83311</td>\n      <td>Bachelors</td>\n      <td>13</td>\n      <td>Married-civ-spouse</td>\n      <td>Exec-managerial</td>\n      <td>Husband</td>\n      <td>White</td>\n      <td>Male</td>\n      <td>0</td>\n      <td>0</td>\n      <td>13</td>\n      <td>United-States</td>\n      <td>&lt;=50K</td>\n    </tr>\n    <tr>\n      <th>1</th>\n      <td>38</td>\n      <td>Private</td>\n      <td>215646</td>\n      <td>HS-grad</td>\n      <td>9</td>\n      <td>Divorced</td>\n      <td>Handlers-cleaners</td>\n      <td>Not-in-family</td>\n      <td>White</td>\n      <td>Male</td>\n      <td>0</td>\n      <td>0</td>\n      <td>40</td>\n      <td>United-States</td>\n      <td>&lt;=50K</td>\n    </tr>\n    <tr>\n      <th>2</th>\n      <td>53</td>\n      <td>Private</td>\n      <td>234721</td>\n      <td>11th</td>\n      <td>7</td>\n      <td>Married-civ-spouse</td>\n      <td>Handlers-cleaners</td>\n      <td>Husband</td>\n      <td>Black</td>\n      <td>Male</td>\n      <td>0</td>\n      <td>0</td>\n      <td>40</td>\n      <td>United-States</td>\n      <td>&lt;=50K</td>\n    </tr>\n    <tr>\n      <th>3</th>\n      <td>28</td>\n      <td>Private</td>\n      <td>338409</td>\n      <td>Bachelors</td>\n      <td>13</td>\n      <td>Married-civ-spouse</td>\n      <td>Prof-specialty</td>\n      <td>Wife</td>\n      <td>Black</td>\n      <td>Female</td>\n      <td>0</td>\n      <td>0</td>\n      <td>40</td>\n      <td>Cuba</td>\n      <td>&lt;=50K</td>\n    </tr>\n    <tr>\n      <th>4</th>\n      <td>37</td>\n      <td>Private</td>\n      <td>284582</td>\n      <td>Masters</td>\n      <td>14</td>\n      <td>Married-civ-spouse</td>\n      <td>Exec-managerial</td>\n      <td>Wife</td>\n      <td>White</td>\n      <td>Female</td>\n      <td>0</td>\n      <td>0</td>\n      <td>40</td>\n      <td>United-States</td>\n      <td>&lt;=50K</td>\n    </tr>\n  </tbody>\n</table>\n</div>"
     },
     "metadata": {},
     "execution_count": 12
    }
   ],
   "source": [
    "cols = [\n",
    "    'age' , 'workclass' , 'fnlwgt',\n",
    "    'education' , 'education.num' , 'marital.status','occupation','relationship','race','sex','capital.gain','capital.loss' , 'hours.per.week' ,'native.country' , 'income'\n",
    "]\n",
    "df = pd.read_csv('dataset/adult.data')\n",
    "df.head()"
   ]
  },
  {
   "cell_type": "code",
   "execution_count": 13,
   "metadata": {},
   "outputs": [
    {
     "output_type": "execute_result",
     "data": {
      "text/plain": "  age          workclass  fnlwgt   education education.num  \\\n0  50   Self-emp-not-inc   83311   Bachelors            13   \n1  38            Private  215646     HS-grad             9   \n2  53            Private  234721        11th             7   \n3  28            Private  338409   Bachelors            13   \n4  37            Private  284582     Masters            14   \n\n        marital.status          occupation    relationship    race      sex  \\\n0   Married-civ-spouse     Exec-managerial         Husband   White     Male   \n1             Divorced   Handlers-cleaners   Not-in-family   White     Male   \n2   Married-civ-spouse   Handlers-cleaners         Husband   Black     Male   \n3   Married-civ-spouse      Prof-specialty            Wife   Black   Female   \n4   Married-civ-spouse     Exec-managerial            Wife   White   Female   \n\n  capital.gain capital.loss hours.per.week  native.country  income  \n0            0            0             13   United-States   &lt;=50K  \n1            0            0             40   United-States   &lt;=50K  \n2            0            0             40   United-States   &lt;=50K  \n3            0            0             40            Cuba   &lt;=50K  \n4            0            0             40   United-States   &lt;=50K  ",
      "text/html": "<div>\n<style scoped>\n    .dataframe tbody tr th:only-of-type {\n        vertical-align: middle;\n    }\n\n    .dataframe tbody tr th {\n        vertical-align: top;\n    }\n\n    .dataframe thead th {\n        text-align: right;\n    }\n</style>\n<table border=\"1\" class=\"dataframe\">\n  <thead>\n    <tr style=\"text-align: right;\">\n      <th></th>\n      <th>age</th>\n      <th>workclass</th>\n      <th>fnlwgt</th>\n      <th>education</th>\n      <th>education.num</th>\n      <th>marital.status</th>\n      <th>occupation</th>\n      <th>relationship</th>\n      <th>race</th>\n      <th>sex</th>\n      <th>capital.gain</th>\n      <th>capital.loss</th>\n      <th>hours.per.week</th>\n      <th>native.country</th>\n      <th>income</th>\n    </tr>\n  </thead>\n  <tbody>\n    <tr>\n      <th>0</th>\n      <td>50</td>\n      <td>Self-emp-not-inc</td>\n      <td>83311</td>\n      <td>Bachelors</td>\n      <td>13</td>\n      <td>Married-civ-spouse</td>\n      <td>Exec-managerial</td>\n      <td>Husband</td>\n      <td>White</td>\n      <td>Male</td>\n      <td>0</td>\n      <td>0</td>\n      <td>13</td>\n      <td>United-States</td>\n      <td>&lt;=50K</td>\n    </tr>\n    <tr>\n      <th>1</th>\n      <td>38</td>\n      <td>Private</td>\n      <td>215646</td>\n      <td>HS-grad</td>\n      <td>9</td>\n      <td>Divorced</td>\n      <td>Handlers-cleaners</td>\n      <td>Not-in-family</td>\n      <td>White</td>\n      <td>Male</td>\n      <td>0</td>\n      <td>0</td>\n      <td>40</td>\n      <td>United-States</td>\n      <td>&lt;=50K</td>\n    </tr>\n    <tr>\n      <th>2</th>\n      <td>53</td>\n      <td>Private</td>\n      <td>234721</td>\n      <td>11th</td>\n      <td>7</td>\n      <td>Married-civ-spouse</td>\n      <td>Handlers-cleaners</td>\n      <td>Husband</td>\n      <td>Black</td>\n      <td>Male</td>\n      <td>0</td>\n      <td>0</td>\n      <td>40</td>\n      <td>United-States</td>\n      <td>&lt;=50K</td>\n    </tr>\n    <tr>\n      <th>3</th>\n      <td>28</td>\n      <td>Private</td>\n      <td>338409</td>\n      <td>Bachelors</td>\n      <td>13</td>\n      <td>Married-civ-spouse</td>\n      <td>Prof-specialty</td>\n      <td>Wife</td>\n      <td>Black</td>\n      <td>Female</td>\n      <td>0</td>\n      <td>0</td>\n      <td>40</td>\n      <td>Cuba</td>\n      <td>&lt;=50K</td>\n    </tr>\n    <tr>\n      <th>4</th>\n      <td>37</td>\n      <td>Private</td>\n      <td>284582</td>\n      <td>Masters</td>\n      <td>14</td>\n      <td>Married-civ-spouse</td>\n      <td>Exec-managerial</td>\n      <td>Wife</td>\n      <td>White</td>\n      <td>Female</td>\n      <td>0</td>\n      <td>0</td>\n      <td>40</td>\n      <td>United-States</td>\n      <td>&lt;=50K</td>\n    </tr>\n  </tbody>\n</table>\n</div>"
     },
     "metadata": {},
     "execution_count": 13
    }
   ],
   "source": [
    "df = pd.DataFrame(df.values , columns= cols)\n",
    "df.head()"
   ]
  },
  {
   "cell_type": "code",
   "execution_count": 8,
   "metadata": {},
   "outputs": [
    {
     "output_type": "execute_result",
     "data": {
      "text/plain": "(32560, 15)"
     },
     "metadata": {},
     "execution_count": 8
    }
   ],
   "source": [
    "df.shape"
   ]
  },
  {
   "source": [
    "This dataset has the following columns:\n",
    "\n",
    "- age\n",
    "- workclass\n",
    "- fnlwgt\n",
    "- education\n",
    "- education.num\n",
    "- marital.status\n",
    "- occupation\n",
    "- relationship\n",
    "- race\n",
    "- sex\n",
    "- capital.gain\n",
    "- capital.loss\n",
    "- hours.per.week\n",
    "- native.country\n",
    "- income"
   ],
   "cell_type": "markdown",
   "metadata": {}
  },
  {
   "cell_type": "code",
   "execution_count": 16,
   "metadata": {},
   "outputs": [],
   "source": [
    "df.to_csv('dataset/adult.csv', index = False)"
   ]
  },
  {
   "cell_type": "code",
   "execution_count": 17,
   "metadata": {},
   "outputs": [
    {
     "output_type": "execute_result",
     "data": {
      "text/plain": " &lt;=50K    24719\n &gt;50K      7841\nName: income, dtype: int64"
     },
     "metadata": {},
     "execution_count": 17
    }
   ],
   "source": [
    "df.income.value_counts()"
   ]
  },
  {
   "source": [
    "We see there are 7841 instance with income greater than 50K USD. this is ~24% of the total number of samples. this will keep the evaluation metrics same i.e AUC\n",
    "\n",
    "Before we start we will drop some columns, which are numerical, namely,\n",
    "- fnlwgt\n",
    "- age\n",
    "- capital.gain\n",
    "- capital.loss\n",
    "- hours.per.week"
   ],
   "cell_type": "markdown",
   "metadata": {}
  },
  {
   "cell_type": "code",
   "execution_count": 57,
   "metadata": {},
   "outputs": [
    {
     "output_type": "execute_result",
     "data": {
      "text/plain": "   age          workclass  fnlwgt      education  education.num  \\\n0   30            Private  155781        HS-grad              9   \n1   43   Self-emp-not-inc  176069        HS-grad              9   \n2   22            Private  151105   Some-college             10   \n3   25            Private  106889        HS-grad              9   \n4   43            Private  241928        HS-grad              9   \n\n        marital.status      occupation     relationship    race      sex  \\\n0   Married-civ-spouse    Craft-repair          Husband   White     Male   \n1   Married-civ-spouse   Other-service             Wife   White   Female   \n2        Never-married           Sales   Other-relative   White   Female   \n3   Married-civ-spouse    Adm-clerical             Wife   White   Female   \n4            Separated    Adm-clerical    Not-in-family   Black   Female   \n\n   capital.gain  capital.loss  hours.per.week  native.country  income  kfold  \n0             0             0              70   United-States   &lt;=50K      0  \n1             0             0              16   United-States   &lt;=50K      0  \n2             0             0              18   United-States   &lt;=50K      0  \n3             0             0              30   United-States   &lt;=50K      0  \n4             0             0              32   United-States   &lt;=50K      0  ",
      "text/html": "<div>\n<style scoped>\n    .dataframe tbody tr th:only-of-type {\n        vertical-align: middle;\n    }\n\n    .dataframe tbody tr th {\n        vertical-align: top;\n    }\n\n    .dataframe thead th {\n        text-align: right;\n    }\n</style>\n<table border=\"1\" class=\"dataframe\">\n  <thead>\n    <tr style=\"text-align: right;\">\n      <th></th>\n      <th>age</th>\n      <th>workclass</th>\n      <th>fnlwgt</th>\n      <th>education</th>\n      <th>education.num</th>\n      <th>marital.status</th>\n      <th>occupation</th>\n      <th>relationship</th>\n      <th>race</th>\n      <th>sex</th>\n      <th>capital.gain</th>\n      <th>capital.loss</th>\n      <th>hours.per.week</th>\n      <th>native.country</th>\n      <th>income</th>\n      <th>kfold</th>\n    </tr>\n  </thead>\n  <tbody>\n    <tr>\n      <th>0</th>\n      <td>30</td>\n      <td>Private</td>\n      <td>155781</td>\n      <td>HS-grad</td>\n      <td>9</td>\n      <td>Married-civ-spouse</td>\n      <td>Craft-repair</td>\n      <td>Husband</td>\n      <td>White</td>\n      <td>Male</td>\n      <td>0</td>\n      <td>0</td>\n      <td>70</td>\n      <td>United-States</td>\n      <td>&lt;=50K</td>\n      <td>0</td>\n    </tr>\n    <tr>\n      <th>1</th>\n      <td>43</td>\n      <td>Self-emp-not-inc</td>\n      <td>176069</td>\n      <td>HS-grad</td>\n      <td>9</td>\n      <td>Married-civ-spouse</td>\n      <td>Other-service</td>\n      <td>Wife</td>\n      <td>White</td>\n      <td>Female</td>\n      <td>0</td>\n      <td>0</td>\n      <td>16</td>\n      <td>United-States</td>\n      <td>&lt;=50K</td>\n      <td>0</td>\n    </tr>\n    <tr>\n      <th>2</th>\n      <td>22</td>\n      <td>Private</td>\n      <td>151105</td>\n      <td>Some-college</td>\n      <td>10</td>\n      <td>Never-married</td>\n      <td>Sales</td>\n      <td>Other-relative</td>\n      <td>White</td>\n      <td>Female</td>\n      <td>0</td>\n      <td>0</td>\n      <td>18</td>\n      <td>United-States</td>\n      <td>&lt;=50K</td>\n      <td>0</td>\n    </tr>\n    <tr>\n      <th>3</th>\n      <td>25</td>\n      <td>Private</td>\n      <td>106889</td>\n      <td>HS-grad</td>\n      <td>9</td>\n      <td>Married-civ-spouse</td>\n      <td>Adm-clerical</td>\n      <td>Wife</td>\n      <td>White</td>\n      <td>Female</td>\n      <td>0</td>\n      <td>0</td>\n      <td>30</td>\n      <td>United-States</td>\n      <td>&lt;=50K</td>\n      <td>0</td>\n    </tr>\n    <tr>\n      <th>4</th>\n      <td>43</td>\n      <td>Private</td>\n      <td>241928</td>\n      <td>HS-grad</td>\n      <td>9</td>\n      <td>Separated</td>\n      <td>Adm-clerical</td>\n      <td>Not-in-family</td>\n      <td>Black</td>\n      <td>Female</td>\n      <td>0</td>\n      <td>0</td>\n      <td>32</td>\n      <td>United-States</td>\n      <td>&lt;=50K</td>\n      <td>0</td>\n    </tr>\n  </tbody>\n</table>\n</div>"
     },
     "metadata": {},
     "execution_count": 57
    }
   ],
   "source": [
    "df = pd.read_csv('dataset/adult_folds.csv')\n",
    "df.head()"
   ]
  },
  {
   "cell_type": "code",
   "execution_count": 58,
   "metadata": {},
   "outputs": [
    {
     "output_type": "execute_result",
     "data": {
      "text/plain": "0"
     },
     "metadata": {},
     "execution_count": 58
    }
   ],
   "source": [
    "df.income.isnull().sum()"
   ]
  },
  {
   "cell_type": "code",
   "execution_count": 59,
   "metadata": {},
   "outputs": [],
   "source": [
    "target_mapping = {\" <=50K\":0 ,\" >50K\":1}\n",
    "df.loc[:,'income'] = df['income'].map(target_mapping)"
   ]
  },
  {
   "cell_type": "code",
   "execution_count": 60,
   "metadata": {},
   "outputs": [
    {
     "output_type": "execute_result",
     "data": {
      "text/plain": "0    24719\n1     7841\nName: income, dtype: int64"
     },
     "metadata": {},
     "execution_count": 60
    }
   ],
   "source": [
    "df.income.value_counts()"
   ]
  },
  {
   "source": [
    "During mapping the \"income\" column just remember that there is **\"One space\"** before the string started "
   ],
   "cell_type": "markdown",
   "metadata": {}
  },
  {
   "cell_type": "code",
   "execution_count": 56,
   "metadata": {},
   "outputs": [
    {
     "output_type": "execute_result",
     "data": {
      "text/plain": "   age          workclass  fnlwgt      education  education.num  \\\n0   30            Private  155781        HS-grad              9   \n1   43   Self-emp-not-inc  176069        HS-grad              9   \n2   22            Private  151105   Some-college             10   \n3   25            Private  106889        HS-grad              9   \n4   43            Private  241928        HS-grad              9   \n\n        marital.status      occupation     relationship    race      sex  \\\n0   Married-civ-spouse    Craft-repair          Husband   White     Male   \n1   Married-civ-spouse   Other-service             Wife   White   Female   \n2        Never-married           Sales   Other-relative   White   Female   \n3   Married-civ-spouse    Adm-clerical             Wife   White   Female   \n4            Separated    Adm-clerical    Not-in-family   Black   Female   \n\n   capital.gain  capital.loss  hours.per.week  native.country  income  kfold  \n0             0             0              70   United-States     NaN      0  \n1             0             0              16   United-States     NaN      0  \n2             0             0              18   United-States     NaN      0  \n3             0             0              30   United-States     NaN      0  \n4             0             0              32   United-States     NaN      0  ",
      "text/html": "<div>\n<style scoped>\n    .dataframe tbody tr th:only-of-type {\n        vertical-align: middle;\n    }\n\n    .dataframe tbody tr th {\n        vertical-align: top;\n    }\n\n    .dataframe thead th {\n        text-align: right;\n    }\n</style>\n<table border=\"1\" class=\"dataframe\">\n  <thead>\n    <tr style=\"text-align: right;\">\n      <th></th>\n      <th>age</th>\n      <th>workclass</th>\n      <th>fnlwgt</th>\n      <th>education</th>\n      <th>education.num</th>\n      <th>marital.status</th>\n      <th>occupation</th>\n      <th>relationship</th>\n      <th>race</th>\n      <th>sex</th>\n      <th>capital.gain</th>\n      <th>capital.loss</th>\n      <th>hours.per.week</th>\n      <th>native.country</th>\n      <th>income</th>\n      <th>kfold</th>\n    </tr>\n  </thead>\n  <tbody>\n    <tr>\n      <th>0</th>\n      <td>30</td>\n      <td>Private</td>\n      <td>155781</td>\n      <td>HS-grad</td>\n      <td>9</td>\n      <td>Married-civ-spouse</td>\n      <td>Craft-repair</td>\n      <td>Husband</td>\n      <td>White</td>\n      <td>Male</td>\n      <td>0</td>\n      <td>0</td>\n      <td>70</td>\n      <td>United-States</td>\n      <td>NaN</td>\n      <td>0</td>\n    </tr>\n    <tr>\n      <th>1</th>\n      <td>43</td>\n      <td>Self-emp-not-inc</td>\n      <td>176069</td>\n      <td>HS-grad</td>\n      <td>9</td>\n      <td>Married-civ-spouse</td>\n      <td>Other-service</td>\n      <td>Wife</td>\n      <td>White</td>\n      <td>Female</td>\n      <td>0</td>\n      <td>0</td>\n      <td>16</td>\n      <td>United-States</td>\n      <td>NaN</td>\n      <td>0</td>\n    </tr>\n    <tr>\n      <th>2</th>\n      <td>22</td>\n      <td>Private</td>\n      <td>151105</td>\n      <td>Some-college</td>\n      <td>10</td>\n      <td>Never-married</td>\n      <td>Sales</td>\n      <td>Other-relative</td>\n      <td>White</td>\n      <td>Female</td>\n      <td>0</td>\n      <td>0</td>\n      <td>18</td>\n      <td>United-States</td>\n      <td>NaN</td>\n      <td>0</td>\n    </tr>\n    <tr>\n      <th>3</th>\n      <td>25</td>\n      <td>Private</td>\n      <td>106889</td>\n      <td>HS-grad</td>\n      <td>9</td>\n      <td>Married-civ-spouse</td>\n      <td>Adm-clerical</td>\n      <td>Wife</td>\n      <td>White</td>\n      <td>Female</td>\n      <td>0</td>\n      <td>0</td>\n      <td>30</td>\n      <td>United-States</td>\n      <td>NaN</td>\n      <td>0</td>\n    </tr>\n    <tr>\n      <th>4</th>\n      <td>43</td>\n      <td>Private</td>\n      <td>241928</td>\n      <td>HS-grad</td>\n      <td>9</td>\n      <td>Separated</td>\n      <td>Adm-clerical</td>\n      <td>Not-in-family</td>\n      <td>Black</td>\n      <td>Female</td>\n      <td>0</td>\n      <td>0</td>\n      <td>32</td>\n      <td>United-States</td>\n      <td>NaN</td>\n      <td>0</td>\n    </tr>\n  </tbody>\n</table>\n</div>"
     },
     "metadata": {},
     "execution_count": 56
    }
   ],
   "source": [
    "df.head()"
   ]
  },
  {
   "cell_type": "code",
   "execution_count": 25,
   "metadata": {},
   "outputs": [
    {
     "output_type": "execute_result",
     "data": {
      "text/plain": "dtype(&#39;O&#39;)"
     },
     "metadata": {},
     "execution_count": 25
    }
   ],
   "source": [
    "df.income.dtype"
   ]
  },
  {
   "cell_type": "code",
   "execution_count": null,
   "metadata": {},
   "outputs": [],
   "source": []
  }
 ]
}